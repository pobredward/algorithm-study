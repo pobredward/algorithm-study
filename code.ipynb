{
 "cells": [
  {
   "cell_type": "code",
   "execution_count": 150,
   "id": "c01628b6",
   "metadata": {},
   "outputs": [
    {
     "name": "stdout",
     "output_type": "stream",
     "text": [
      "[1, 2, 3, 4, 5, 6, 7, 8, 9, 10]\n",
      "[2, 4, 6, 8, 10, 12, 14, 16, 18, 20]\n",
      "[39, 81, 210, 231, 150, 120, 102, 279, 225, 240, 156, 207, 225, 42, 21, 222, 129, 138, 21, 90, 93, 252, 210, 171, 165, 54, 282, 162, 60, 207, 264, 237, 186, 27, 105, 282, 225]\n"
     ]
    }
   ],
   "source": [
    "# 1 ~ 10을 담는 리스트를 만들어봅시다.\n",
    "_list = [i for i in range(1, 11)]\n",
    "print(_list)\n",
    "\n",
    "# 2, 4, 6, ..., 20을 담는 리스트를 만들어봅시다.\n",
    "_list = [i*2 for i in range(1, 11)]\n",
    "print(_list)\n",
    "\n",
    "# 주어진 리스트를 받아 3의 배수만 담는 리스트를 만들어봅시다.\n",
    "import random\n",
    "temp = [random.randrange(1, 300) for i in range(100)]\n",
    "_list = [i for i in temp if i % 3==0]\n",
    "print(_list)\n",
    "\n",
    "# 값이 두개 들어있는 튜플을 받아 리스트를 생성하되, 튜플 내부의 값을 뒤집어서 저장하세요.\n",
    "list_of_tuple = [(i, j) for i in range(100) for j in range(100, 0, -1)]\n",
    "_list = [(j, i) for i, j in list_of_tuple]\n",
    "\n",
    "# 주어진 리스트를 그대로 담되, 15가 넘어가는 값은 15로 바꿔서 저장합시다.\n",
    "_list = [i if i<=15 else 15 for i in temp]\n",
    "\n",
    "# 두 개의 리스트를 합치되, 가능한 모든 조합을 저장하는 리스트를 만들어봅시다."
   ]
  },
  {
   "cell_type": "code",
   "execution_count": 151,
   "id": "297f2fa0",
   "metadata": {},
   "outputs": [
    {
     "data": {
      "text/plain": [
       "{1, 2, 3, 4, 5, 6, 7, 8, 9, 10}"
      ]
     },
     "execution_count": 151,
     "metadata": {},
     "output_type": "execute_result"
    }
   ],
   "source": [
    "data = [1, 2, 3, 4, 5, 6, 7, 8, 9, 10]\n",
    "_data_set = set(data)"
   ]
  },
  {
   "cell_type": "code",
   "execution_count": 156,
   "id": "d1117815",
   "metadata": {},
   "outputs": [
    {
     "name": "stdout",
     "output_type": "stream",
     "text": [
      "1\n",
      "2\n",
      "3\n",
      "4\n",
      "5\n",
      "6\n",
      "7\n",
      "8\n",
      "9\n",
      "10\n"
     ]
    }
   ],
   "source": [
    "for i in range(100):\n",
    "    if i in _data_set:\n",
    "        print(i)"
   ]
  },
  {
   "cell_type": "code",
   "execution_count": 161,
   "id": "e358bd0a",
   "metadata": {},
   "outputs": [],
   "source": [
    "test_list = ['Test', 'test', 'TEST', 'tteesstt']\n",
    "converted_list = set(map(lambda string: string.lower(), test_list))"
   ]
  },
  {
   "cell_type": "code",
   "execution_count": 162,
   "id": "0562c245",
   "metadata": {},
   "outputs": [
    {
     "data": {
      "text/plain": [
       "{'test', 'tteesstt'}"
      ]
     },
     "execution_count": 162,
     "metadata": {},
     "output_type": "execute_result"
    }
   ],
   "source": [
    "converted_list"
   ]
  },
  {
   "cell_type": "code",
   "execution_count": 164,
   "id": "81414b21",
   "metadata": {},
   "outputs": [],
   "source": [
    "fruit = ['apple', 'grape', 'orange', 'banana']\n",
    "price = [3200, 15200, 9800, 5000]\n",
    "\n",
    "_dict = dict(zip(fruit, price)) # {'apple' : 3200, 'grape' : 15200, 'orange' : 9000, 'banana' : 5000}"
   ]
  },
  {
   "cell_type": "code",
   "execution_count": 170,
   "id": "4316f7be",
   "metadata": {},
   "outputs": [
    {
     "name": "stdout",
     "output_type": "stream",
     "text": [
      "0\n"
     ]
    }
   ],
   "source": [
    "print(_dict.setdefault('ss', 0))"
   ]
  },
  {
   "cell_type": "code",
   "execution_count": 171,
   "id": "ff3e74c9",
   "metadata": {},
   "outputs": [
    {
     "data": {
      "text/plain": [
       "defaultdict(list, {})"
      ]
     },
     "execution_count": 171,
     "metadata": {},
     "output_type": "execute_result"
    }
   ],
   "source": [
    "from collections import defaultdict\n",
    "\n",
    "movie_review = [('Train to Busan', 4), ('Clementine', 5), ('Parasite', 4.5), \n",
    "                ('Train to Busan', 4.2), ('Train to Busan', 4.5), ('Clementine', 5)]\n",
    "\n",
    "index = defaultdict(list)\n",
    "index"
   ]
  },
  {
   "cell_type": "code",
   "execution_count": 172,
   "id": "f96a40de",
   "metadata": {},
   "outputs": [],
   "source": [
    "for review in movie_review:\n",
    "    index[review[0]].append(review[1]) # {'Train to Busan': [4, 4.2, 4.5], 'Clementine': [5, 5], 'Parasite': [4.5]}"
   ]
  },
  {
   "cell_type": "code",
   "execution_count": 181,
   "id": "1fc74885",
   "metadata": {},
   "outputs": [
    {
     "data": {
      "text/plain": [
       "defaultdict(list,\n",
       "            {'Train to Busan': [4, 4.2, 4.5, 4, 4.2, 4.5],\n",
       "             'Clementine': [5, 5, 5, 5],\n",
       "             'Parasite': [4.5, 4.5],\n",
       "             1: [],\n",
       "             0: []})"
      ]
     },
     "execution_count": 181,
     "metadata": {},
     "output_type": "execute_result"
    }
   ],
   "source": [
    "index"
   ]
  },
  {
   "cell_type": "code",
   "execution_count": null,
   "id": "fb7ece0b",
   "metadata": {},
   "outputs": [],
   "source": []
  }
 ],
 "metadata": {
  "kernelspec": {
   "display_name": "Python 3 (ipykernel)",
   "language": "python",
   "name": "python3"
  },
  "language_info": {
   "codemirror_mode": {
    "name": "ipython",
    "version": 3
   },
   "file_extension": ".py",
   "mimetype": "text/x-python",
   "name": "python",
   "nbconvert_exporter": "python",
   "pygments_lexer": "ipython3",
   "version": "3.9.7"
  }
 },
 "nbformat": 4,
 "nbformat_minor": 5
}
